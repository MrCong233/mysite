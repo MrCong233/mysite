{
 "cells": [
  {
   "cell_type": "code",
   "execution_count": null,
   "metadata": {},
   "outputs": [],
   "source": [
    "%matplotlib inline\n",
    "\n",
    "import pandas as pd\n",
    "import matplotlib.pyplot as plt\n",
    "import seaborn as sns\n",
    "\n",
    "sns.set(style=\"darkgrid\")"
   ]
  },
  {
   "cell_type": "code",
   "execution_count": null,
   "metadata": {},
   "outputs": [],
   "source": [
    "size = 10 ** 6\n",
    "start_time = pd.to_datetime('20140824 7:0:0')\n",
    "end_time = pd.to_datetime('20140824 8:0:0')\n",
    "# start_time = '20140824 7'\n",
    "# end_time = '20140824 8'\n",
    "hour_dataframe = pd.DataFrame()\n",
    "for chunk in pd.read_csv('20140824_train.txt', chunksize=size):\n",
    "    chunk.columns = ['taxi_id', 'latitude', 'longitude', 'passenger', 'time']\n",
    "    chunk.time = chunk.time.apply(pd.to_datetime)\n",
    "    mask = (chunk.time >= start_time) & (chunk.time < end_time)\n",
    "    hour_dataframe = pd.concat([hour_dataframe, chunk.loc[mask]])"
   ]
  },
  {
   "cell_type": "markdown",
   "metadata": {},
   "source": [
    "分块提取特定时间的出租车客流数据"
   ]
  },
  {
   "cell_type": "code",
   "execution_count": null,
   "metadata": {},
   "outputs": [],
   "source": [
    "up_off_pairs = []\n",
    "grouped = hour_dataframe.groupby('taxi_id', sort=False)\n",
    "for taxi_id, group in grouped:\n",
    "    selected_group_length = len(group)\n",
    "    group = group.sort_values(by=['time'])\n",
    "    i = 0\n",
    "    while i < selected_group_length - 1:\n",
    "        if ((group.iloc[[i]].passenger == 1).bool() & (group.iloc[[i + 1]].passenger != 0).bool()):\n",
    "            up_point_row = group.iloc[[i]]\n",
    "            up_off_point = [[up_point_row.longitude, up_point_row.latitude]]\n",
    "            j = i + 1\n",
    "            while j < selected_group_length:\n",
    "                print('current_j is %s' % j)\n",
    "                if (group.iloc[[j]].passenger == 0).bool():\n",
    "                    off_point_row = group.iloc[[j - 1]]\n",
    "                    up_off_point.append([off_point_row.longitude, off_point_row.latitude])\n",
    "                    i = j + 1\n",
    "                    break\n",
    "                else:\n",
    "                    if j == selected_group_length - 1:\n",
    "                        up_off_point.append([group.iloc[[j]].longitude, group.iloc[[j]].latitude])\n",
    "                        i = j\n",
    "                        break\n",
    "                    else:\n",
    "                        j += 1\n",
    "            if len(up_off_point) == 2:\n",
    "                up_off_pairs.append(up_off_point)\n",
    "        else:\n",
    "            i += 1\n",
    "print(up_off_pairs)"
   ]
  },
  {
   "cell_type": "markdown",
   "metadata": {},
   "source": [
    "对每辆出租车在特定时间内的上客、下客点进行统计。"
   ]
  }
 ],
 "metadata": {
  "kernelspec": {
   "display_name": "Python 3",
   "language": "python",
   "name": "python3"
  },
  "language_info": {
   "codemirror_mode": {
    "name": "ipython",
    "version": 3
   },
   "file_extension": ".py",
   "mimetype": "text/x-python",
   "name": "python",
   "nbconvert_exporter": "python",
   "pygments_lexer": "ipython3",
   "version": "3.6.6"
  }
 },
 "nbformat": 4,
 "nbformat_minor": 2
}
